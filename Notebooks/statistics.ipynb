{
 "cells": [
  {
   "cell_type": "markdown",
   "id": "3573773a-0c85-4f98-ba4d-2b623abd3077",
   "metadata": {},
   "source": [
    "## Z test"
   ]
  },
  {
   "cell_type": "code",
   "execution_count": 4,
   "id": "8114c869-f0bc-49aa-ac13-464887641298",
   "metadata": {
    "scrolled": true
   },
   "outputs": [],
   "source": [
    "from statsmodels.stats.weightstats import ztest as ztest"
   ]
  },
  {
   "cell_type": "code",
   "execution_count": 5,
   "id": "1cc6f830-0830-44d9-a6f7-4f2fb05274c5",
   "metadata": {},
   "outputs": [],
   "source": [
    "data = [88,92,94,94,96,97,97,99,99,105,109,109,109,110,112,112,113,114,115]"
   ]
  },
  {
   "cell_type": "code",
   "execution_count": 7,
   "id": "e4a5aa99-0505-4a51-9aa9-aceaa44981a7",
   "metadata": {},
   "outputs": [
    {
     "data": {
      "text/plain": [
       "(1.6976532110033402, 0.08957323350769629)"
      ]
     },
     "execution_count": 7,
     "metadata": {},
     "output_type": "execute_result"
    }
   ],
   "source": [
    "ztest(data,value=100) # data, mean; returns (z score, p value)"
   ]
  },
  {
   "cell_type": "code",
   "execution_count": 8,
   "id": "63f15d57-e7de-4272-986d-110340ed0ca7",
   "metadata": {},
   "outputs": [
    {
     "name": "stdout",
     "output_type": "stream",
     "text": [
      "103.36842105263158\n"
     ]
    }
   ],
   "source": [
    "data = [88,92,94,94,96,97,97,99,99,105,109,109,109,110,112,112,113,114,115]\n",
    "import numpy as np\n",
    "print(np.mean(data))"
   ]
  },
  {
   "cell_type": "code",
   "execution_count": 20,
   "id": "30eb0f5a-487e-4070-bc6b-76da144eab8a",
   "metadata": {},
   "outputs": [
    {
     "data": {
      "text/plain": [
       "array([ 97,  99,  92, 115, 112, 109,  97, 115, 109,  92])"
      ]
     },
     "execution_count": 20,
     "metadata": {},
     "output_type": "execute_result"
    }
   ],
   "source": [
    "age_sample = np.random.choice(data,size=10)\n",
    "age_sample"
   ]
  },
  {
   "cell_type": "code",
   "execution_count": 22,
   "id": "82537285-7bc1-44cb-b949-7d9ae1c25c83",
   "metadata": {},
   "outputs": [],
   "source": [
    "from scipy.stats import ttest_1samp as ttest"
   ]
  },
  {
   "cell_type": "code",
   "execution_count": 27,
   "id": "5f2df7c8-3f24-4548-9d4c-9d8c566a4297",
   "metadata": {},
   "outputs": [
    {
     "data": {
      "text/plain": [
       "TtestResult(statistic=2.9819322787192055, pvalue=0.015401209728952269, df=9)"
      ]
     },
     "execution_count": 27,
     "metadata": {},
     "output_type": "execute_result"
    }
   ],
   "source": [
    "ttest(age_sample,95)"
   ]
  },
  {
   "cell_type": "code",
   "execution_count": 24,
   "id": "8135fcd7-77e5-4820-8f48-24123b0d821c",
   "metadata": {},
   "outputs": [
    {
     "data": {
      "text/plain": [
       "103.7"
      ]
     },
     "execution_count": 24,
     "metadata": {},
     "output_type": "execute_result"
    }
   ],
   "source": [
    "age_sample.mean()"
   ]
  }
 ],
 "metadata": {
  "kernelspec": {
   "display_name": "Python 3 (ipykernel)",
   "language": "python",
   "name": "python3"
  },
  "language_info": {
   "codemirror_mode": {
    "name": "ipython",
    "version": 3
   },
   "file_extension": ".py",
   "mimetype": "text/x-python",
   "name": "python",
   "nbconvert_exporter": "python",
   "pygments_lexer": "ipython3",
   "version": "3.11.4"
  }
 },
 "nbformat": 4,
 "nbformat_minor": 5
}
