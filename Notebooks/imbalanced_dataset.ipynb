{
 "cells": [
  {
   "cell_type": "code",
   "execution_count": 102,
   "id": "13b0da1e-8942-43f1-bdcd-3256d34e1d14",
   "metadata": {},
   "outputs": [],
   "source": [
    "import pandas as pd\n",
    "import numpy as np\n",
    "import os\n",
    "import matplotlib.pyplot as plt\n",
    "import seaborn as sns"
   ]
  },
  {
   "cell_type": "code",
   "execution_count": 103,
   "id": "fead94b4-0662-47f1-b520-8683406228db",
   "metadata": {},
   "outputs": [],
   "source": [
    "def get_df(dataset,cols=None):\n",
    "    ds_path = 'G:\\Ashish Yadav\\Backup Google Drive\\Documents-Lecture\\Github\\Data-Science\\Datasets'\n",
    "    df = pd.read_csv(os.path.join(ds_path,dataset),usecols=cols)\n",
    "    return df"
   ]
  },
  {
   "cell_type": "code",
   "execution_count": 104,
   "id": "41482632-ec8e-4901-9628-4c51539c8b4a",
   "metadata": {},
   "outputs": [],
   "source": [
    "df = get_df('diabetes_dataset.csv')"
   ]
  },
  {
   "cell_type": "code",
   "execution_count": 105,
   "id": "f18913f8-d60c-4fa7-bacb-e995558cf7df",
   "metadata": {},
   "outputs": [
    {
     "data": {
      "text/plain": [
       "Index(['gender', 'age', 'hypertension', 'heart_disease', 'smoking_history',\n",
       "       'bmi', 'HbA1c_level', 'blood_glucose_level', 'diabetes'],\n",
       "      dtype='object')"
      ]
     },
     "execution_count": 105,
     "metadata": {},
     "output_type": "execute_result"
    }
   ],
   "source": [
    "df.columns"
   ]
  },
  {
   "cell_type": "code",
   "execution_count": 106,
   "id": "78219979-5135-4793-854a-d8874ffb6efa",
   "metadata": {},
   "outputs": [],
   "source": [
    "df = df.drop(['gender','smoking_history'],axis=1)"
   ]
  },
  {
   "cell_type": "code",
   "execution_count": 107,
   "id": "690c0952-ba87-4a59-8327-6d068b234b6c",
   "metadata": {},
   "outputs": [],
   "source": [
    "df.columns = ['age', 'hypertension', 'heart_disease',\n",
    "       'bmi', 'HbA1c_level', 'blood_glucose_level', 'Class']"
   ]
  },
  {
   "cell_type": "code",
   "execution_count": 108,
   "id": "08e8288e-09e7-4e88-aea8-b7f951adeade",
   "metadata": {},
   "outputs": [
    {
     "data": {
      "text/html": [
       "<div>\n",
       "<style scoped>\n",
       "    .dataframe tbody tr th:only-of-type {\n",
       "        vertical-align: middle;\n",
       "    }\n",
       "\n",
       "    .dataframe tbody tr th {\n",
       "        vertical-align: top;\n",
       "    }\n",
       "\n",
       "    .dataframe thead th {\n",
       "        text-align: right;\n",
       "    }\n",
       "</style>\n",
       "<table border=\"1\" class=\"dataframe\">\n",
       "  <thead>\n",
       "    <tr style=\"text-align: right;\">\n",
       "      <th></th>\n",
       "      <th>age</th>\n",
       "      <th>hypertension</th>\n",
       "      <th>heart_disease</th>\n",
       "      <th>bmi</th>\n",
       "      <th>HbA1c_level</th>\n",
       "      <th>blood_glucose_level</th>\n",
       "      <th>Class</th>\n",
       "    </tr>\n",
       "  </thead>\n",
       "  <tbody>\n",
       "    <tr>\n",
       "      <th>0</th>\n",
       "      <td>80.0</td>\n",
       "      <td>0</td>\n",
       "      <td>1</td>\n",
       "      <td>25.19</td>\n",
       "      <td>6.6</td>\n",
       "      <td>140</td>\n",
       "      <td>0</td>\n",
       "    </tr>\n",
       "    <tr>\n",
       "      <th>1</th>\n",
       "      <td>54.0</td>\n",
       "      <td>0</td>\n",
       "      <td>0</td>\n",
       "      <td>27.32</td>\n",
       "      <td>6.6</td>\n",
       "      <td>80</td>\n",
       "      <td>0</td>\n",
       "    </tr>\n",
       "    <tr>\n",
       "      <th>2</th>\n",
       "      <td>28.0</td>\n",
       "      <td>0</td>\n",
       "      <td>0</td>\n",
       "      <td>27.32</td>\n",
       "      <td>5.7</td>\n",
       "      <td>158</td>\n",
       "      <td>0</td>\n",
       "    </tr>\n",
       "    <tr>\n",
       "      <th>3</th>\n",
       "      <td>36.0</td>\n",
       "      <td>0</td>\n",
       "      <td>0</td>\n",
       "      <td>23.45</td>\n",
       "      <td>5.0</td>\n",
       "      <td>155</td>\n",
       "      <td>0</td>\n",
       "    </tr>\n",
       "    <tr>\n",
       "      <th>4</th>\n",
       "      <td>76.0</td>\n",
       "      <td>1</td>\n",
       "      <td>1</td>\n",
       "      <td>20.14</td>\n",
       "      <td>4.8</td>\n",
       "      <td>155</td>\n",
       "      <td>0</td>\n",
       "    </tr>\n",
       "  </tbody>\n",
       "</table>\n",
       "</div>"
      ],
      "text/plain": [
       "    age  hypertension  heart_disease    bmi  HbA1c_level  blood_glucose_level  \\\n",
       "0  80.0             0              1  25.19          6.6                  140   \n",
       "1  54.0             0              0  27.32          6.6                   80   \n",
       "2  28.0             0              0  27.32          5.7                  158   \n",
       "3  36.0             0              0  23.45          5.0                  155   \n",
       "4  76.0             1              1  20.14          4.8                  155   \n",
       "\n",
       "   Class  \n",
       "0      0  \n",
       "1      0  \n",
       "2      0  \n",
       "3      0  \n",
       "4      0  "
      ]
     },
     "execution_count": 108,
     "metadata": {},
     "output_type": "execute_result"
    }
   ],
   "source": [
    "df.head()"
   ]
  },
  {
   "cell_type": "code",
   "execution_count": 109,
   "id": "3817ef31-0241-4df8-b49b-15ca4266c21f",
   "metadata": {},
   "outputs": [
    {
     "data": {
      "text/plain": [
       "(100000, 7)"
      ]
     },
     "execution_count": 109,
     "metadata": {},
     "output_type": "execute_result"
    }
   ],
   "source": [
    "df.shape"
   ]
  },
  {
   "cell_type": "code",
   "execution_count": 110,
   "id": "e351dca2-9efc-4bde-865f-3743c91f493e",
   "metadata": {},
   "outputs": [
    {
     "data": {
      "text/plain": [
       "age                    0\n",
       "hypertension           0\n",
       "heart_disease          0\n",
       "bmi                    0\n",
       "HbA1c_level            0\n",
       "blood_glucose_level    0\n",
       "Class                  0\n",
       "dtype: int64"
      ]
     },
     "execution_count": 110,
     "metadata": {},
     "output_type": "execute_result"
    }
   ],
   "source": [
    "df.isnull().sum()"
   ]
  },
  {
   "cell_type": "code",
   "execution_count": 111,
   "id": "90be982a-b604-4065-aff5-f2b9d6ff9379",
   "metadata": {},
   "outputs": [
    {
     "data": {
      "text/plain": [
       "Class\n",
       "0    91500\n",
       "1     8500\n",
       "Name: count, dtype: int64"
      ]
     },
     "execution_count": 111,
     "metadata": {},
     "output_type": "execute_result"
    }
   ],
   "source": [
    "df['Class'].value_counts()"
   ]
  },
  {
   "cell_type": "markdown",
   "id": "1f3055e8-676c-4130-9a64-a6ed3567915f",
   "metadata": {},
   "source": [
    "## Using ensemble methods"
   ]
  },
  {
   "cell_type": "markdown",
   "id": "74be08d2-76a5-4f51-ab80-ca5bb83cb212",
   "metadata": {},
   "source": [
    "### Random forest classifier"
   ]
  },
  {
   "cell_type": "code",
   "execution_count": 112,
   "id": "4c818066-2482-41a5-ab45-6e821a03f968",
   "metadata": {},
   "outputs": [],
   "source": [
    "from sklearn.ensemble import RandomForestClassifier\n",
    "from sklearn.model_selection import train_test_split\n",
    "from sklearn.metrics import confusion_matrix,classification_report"
   ]
  },
  {
   "cell_type": "code",
   "execution_count": 113,
   "id": "d989f19a-9cbf-4166-a9ca-0706dedcf329",
   "metadata": {},
   "outputs": [],
   "source": [
    "X = df.drop('Class',axis=1)\n",
    "y = df['Class']"
   ]
  },
  {
   "cell_type": "code",
   "execution_count": 114,
   "id": "a4788dcb-6c68-4664-b52c-6e3cf08193eb",
   "metadata": {},
   "outputs": [],
   "source": [
    "X_train,X_test,y_train,y_test = train_test_split(X,y,test_size=0.2,random_state=1)\n",
    "rf_clf = RandomForestClassifier(n_estimators=25)\n",
    "rf_clf.fit(X_train,y_train)\n",
    "y_pred = rf_clf.predict(X_test)"
   ]
  },
  {
   "cell_type": "code",
   "execution_count": 117,
   "id": "aec8a896-f430-4684-8bf7-001fea2b672b",
   "metadata": {},
   "outputs": [
    {
     "data": {
      "image/png": "[encoded data removed]",
      "text/plain": [
       "<Figure size 640x480 with 2 Axes>"
      ]
     },
     "metadata": {},
     "output_type": "display_data"
    }
   ],
   "source": [
    "cm = confusion_matrix(y_test,y_pred)\n",
    "sns.heatmap(cm,annot=True,fmt='d')\n",
    "plt.show()"
   ]
  },
  {
   "cell_type": "code",
   "execution_count": 118,
   "id": "814f2050-6e5d-441f-9bb9-be08436a9d2e",
   "metadata": {},
   "outputs": [
    {
     "name": "stdout",
     "output_type": "stream",
     "text": [
      "              precision    recall  f1-score   support\n",
      "\n",
      "           0       0.97      0.99      0.98     18299\n",
      "           1       0.89      0.70      0.78      1701\n",
      "\n",
      "    accuracy                           0.97     20000\n",
      "   macro avg       0.93      0.85      0.88     20000\n",
      "weighted avg       0.97      0.97      0.97     20000\n",
      "\n"
     ]
    }
   ],
   "source": [
    "print(classification_report(y_test,y_pred))"
   ]
  },
  {
   "cell_type": "code",
   "execution_count": 119,
   "id": "8286e769-fbd6-421c-9dbc-4768e9537469",
   "metadata": {},
   "outputs": [],
   "source": [
    "# give weight 1 to class 0 and give weight 100 to class 1\n",
    "class_weights = dict({\n",
    "    0: 1,\n",
    "    1: 100\n",
    "})"
   ]
  },
  {
   "cell_type": "markdown",
   "id": "766cfd58-2dbe-463d-9509-53997fe93964",
   "metadata": {},
   "source": [
    "## Under sampling\n",
    "**Under sampling majority class**"
   ]
  },
  {
   "cell_type": "markdown",
   "id": "21b9cba8-de77-4b01-8e57-fb6bca7fbd3a",
   "metadata": {},
   "source": [
    "### Using pandas etc"
   ]
  },
  {
   "cell_type": "code",
   "execution_count": 120,
   "id": "ea76a675-003b-402b-95df-49636a1bf882",
   "metadata": {},
   "outputs": [],
   "source": [
    "df_minority_class = df[df['Class']==1] \n",
    "df_majority_class = df[df['Class']==0]"
   ]
  },
  {
   "cell_type": "code",
   "execution_count": 121,
   "id": "c91e2678-b0b3-4325-975c-66f55a3ba6a5",
   "metadata": {},
   "outputs": [],
   "source": [
    "df_under_sampled = df_majority_class.sample(df_minority_class.shape[0])"
   ]
  },
  {
   "cell_type": "code",
   "execution_count": 122,
   "id": "8dc12d8d-1b39-43bc-8d07-cb880547db2d",
   "metadata": {},
   "outputs": [],
   "source": [
    "combined_df = pd.concat([df_minority_class,df_under_sampled])"
   ]
  },
  {
   "cell_type": "code",
   "execution_count": 123,
   "id": "8d61c167-31e7-4258-80b3-622f00b946d1",
   "metadata": {},
   "outputs": [
    {
     "data": {
      "text/plain": [
       "(17000, 7)"
      ]
     },
     "execution_count": 123,
     "metadata": {},
     "output_type": "execute_result"
    }
   ],
   "source": [
    "combined_df.shape"
   ]
  },
  {
   "cell_type": "code",
   "execution_count": 124,
   "id": "55d62e6e-bb9e-49c4-9ec6-2d1e2fb4b27b",
   "metadata": {},
   "outputs": [],
   "source": [
    "X = combined_df.drop('Class',axis=1)\n",
    "y = combined_df['Class']"
   ]
  },
  {
   "cell_type": "code",
   "execution_count": 125,
   "id": "3c191ed9-3df9-4934-8f6d-d299fe47c287",
   "metadata": {},
   "outputs": [],
   "source": [
    "X_train,X_test,y_train,y_test = train_test_split(X,y,test_size=0.2,random_state=1)\n",
    "rf_clf = RandomForestClassifier(n_estimators=25)\n",
    "rf_clf.fit(X_train,y_train)\n",
    "y_pred = rf_clf.predict(X_test)"
   ]
  },
  {
   "cell_type": "code",
   "execution_count": 126,
   "id": "5f680a1b-eab2-4f01-9b22-aee60a1f28f6",
   "metadata": {},
   "outputs": [
    {
     "data": {
      "image/png": "[encoded data removed]",
      "text/plain": [
       "<Figure size 640x480 with 2 Axes>"
      ]
     },
     "metadata": {},
     "output_type": "display_data"
    }
   ],
   "source": [
    "cm = confusion_matrix(y_test,y_pred)\n",
    "sns.heatmap(cm,annot=True,fmt='d')\n",
    "plt.show()"
   ]
  },
  {
   "cell_type": "code",
   "execution_count": 127,
   "id": "7675a33e-6e3b-4fe0-91d7-939f59953192",
   "metadata": {},
   "outputs": [
    {
     "name": "stdout",
     "output_type": "stream",
     "text": [
      "              precision    recall  f1-score   support\n",
      "\n",
      "           0       0.91      0.90      0.90      1751\n",
      "           1       0.89      0.91      0.90      1649\n",
      "\n",
      "    accuracy                           0.90      3400\n",
      "   macro avg       0.90      0.90      0.90      3400\n",
      "weighted avg       0.90      0.90      0.90      3400\n",
      "\n"
     ]
    }
   ],
   "source": [
    "print(classification_report(y_test,y_pred))"
   ]
  },
  {
   "cell_type": "markdown",
   "id": "bd68db41-338b-422b-b104-deaa88b64f6e",
   "metadata": {},
   "source": [
    "### Using imblearn "
   ]
  },
  {
   "cell_type": "code",
   "execution_count": 80,
   "id": "c867c75c-3f2b-4f41-bb63-418075f64a61",
   "metadata": {},
   "outputs": [],
   "source": [
    "from imblearn.under_sampling import NearMiss\n",
    "from collections import Counter"
   ]
  },
  {
   "cell_type": "code",
   "execution_count": 128,
   "id": "2b8fe64b-ffed-4bd3-be64-8e0b5cca9b50",
   "metadata": {},
   "outputs": [],
   "source": [
    "X = df.drop('Class',axis=1)\n",
    "y = df['Class']"
   ]
  },
  {
   "cell_type": "code",
   "execution_count": 129,
   "id": "c4416b52-01c0-4355-b81b-3c5c0ae03071",
   "metadata": {},
   "outputs": [],
   "source": [
    "# minority class will be 80% of majority class\n",
    "# 506*0.8 (majority) = 405 (minority)\n",
    "ns = NearMiss(sampling_strategy=0.8)\n",
    "X_train_ns,y_train_ns = ns.fit_resample(X,y)"
   ]
  },
  {
   "cell_type": "code",
   "execution_count": 130,
   "id": "d1de7794-9c0f-48f5-bc3a-9336084a940e",
   "metadata": {},
   "outputs": [
    {
     "data": {
      "text/plain": [
       "Counter({0: 10625, 1: 8500})"
      ]
     },
     "execution_count": 130,
     "metadata": {},
     "output_type": "execute_result"
    }
   ],
   "source": [
    "Counter(y_train_ns)"
   ]
  },
  {
   "cell_type": "code",
   "execution_count": 131,
   "id": "9bdfbdc5-eb6e-4c88-99be-e4aa2a526717",
   "metadata": {},
   "outputs": [],
   "source": [
    "X_train,X_test,y_train,y_test = train_test_split(X_train_ns,y_train_ns,test_size=0.2,random_state=1)\n",
    "rf_clf = RandomForestClassifier(n_estimators=25)\n",
    "rf_clf.fit(X_train,y_train)\n",
    "y_pred = rf_clf.predict(X_test)"
   ]
  },
  {
   "cell_type": "code",
   "execution_count": 132,
   "id": "c896aa5f-ead2-4b72-be1b-0088daabe722",
   "metadata": {},
   "outputs": [
    {
     "data": {
      "image/png": "[encoded data removed]",
      "text/plain": [
       "<Figure size 640x480 with 2 Axes>"
      ]
     },
     "metadata": {},
     "output_type": "display_data"
    }
   ],
   "source": [
    "cm = confusion_matrix(y_test,y_pred)\n",
    "sns.heatmap(cm,annot=True,fmt='d')\n",
    "plt.show()"
   ]
  },
  {
   "cell_type": "code",
   "execution_count": 133,
   "id": "7e68dfcc-85f2-449e-979f-3388ab73a7ab",
   "metadata": {},
   "outputs": [
    {
     "name": "stdout",
     "output_type": "stream",
     "text": [
      "              precision    recall  f1-score   support\n",
      "\n",
      "           0       0.87      0.93      0.90      2172\n",
      "           1       0.89      0.82      0.85      1653\n",
      "\n",
      "    accuracy                           0.88      3825\n",
      "   macro avg       0.88      0.87      0.87      3825\n",
      "weighted avg       0.88      0.88      0.88      3825\n",
      "\n"
     ]
    }
   ],
   "source": [
    "print(classification_report(y_test,y_pred))"
   ]
  },
  {
   "cell_type": "markdown",
   "id": "b54acd47-ae43-4177-af42-d0f17ecd9378",
   "metadata": {},
   "source": [
    "## Over Sampling\n",
    "**Oversampling minority class**"
   ]
  },
  {
   "cell_type": "markdown",
   "id": "e6cb0e27-bce6-46ef-9e18-9f58efc5147b",
   "metadata": {},
   "source": [
    "### Random over sampler"
   ]
  },
  {
   "cell_type": "code",
   "execution_count": 134,
   "id": "73c0bd7d-5f82-4496-9bdf-66c99073164b",
   "metadata": {},
   "outputs": [],
   "source": [
    "from imblearn.over_sampling import RandomOverSampler"
   ]
  },
  {
   "cell_type": "code",
   "execution_count": 135,
   "id": "326276e2-1482-4bf6-9305-b68eca455909",
   "metadata": {},
   "outputs": [],
   "source": [
    "X = df.drop('Class',axis=1)\n",
    "y = df['Class']"
   ]
  },
  {
   "cell_type": "code",
   "execution_count": 141,
   "id": "8b21a8a8-b0c2-4f34-bb03-9d75a8cadb64",
   "metadata": {},
   "outputs": [],
   "source": [
    "ros = RandomOverSampler(sampling_strategy=0.9)\n",
    "X,y = ros.fit_resample(X,y)"
   ]
  },
  {
   "cell_type": "code",
   "execution_count": 142,
   "id": "f1e4452d-bc8b-4072-b713-ffff34c63e4c",
   "metadata": {},
   "outputs": [],
   "source": [
    "X_train,X_test,y_train,y_test = train_test_split(X,y,test_size=0.2,random_state=1)\n",
    "rf_clf = RandomForestClassifier(n_estimators=25)\n",
    "rf_clf.fit(X_train,y_train)\n",
    "y_pred = rf_clf.predict(X_test)"
   ]
  },
  {
   "cell_type": "code",
   "execution_count": 143,
   "id": "e2684ebc-e0f3-4095-93f6-cdda789d9260",
   "metadata": {},
   "outputs": [
    {
     "data": {
      "text/plain": [
       "Counter({0: 91500, 1: 82350})"
      ]
     },
     "execution_count": 143,
     "metadata": {},
     "output_type": "execute_result"
    }
   ],
   "source": [
    "Counter(y)"
   ]
  },
  {
   "cell_type": "code",
   "execution_count": 144,
   "id": "5d54ca83-f04b-4787-bcdf-d78964fc2512",
   "metadata": {},
   "outputs": [
    {
     "data": {
      "image/png": "[encoded data removed]",
      "text/plain": [
       "<Figure size 640x480 with 2 Axes>"
      ]
     },
     "metadata": {},
     "output_type": "display_data"
    }
   ],
   "source": [
    "cm = confusion_matrix(y_test,y_pred)\n",
    "sns.heatmap(cm,annot=True,fmt='d')\n",
    "plt.show()"
   ]
  },
  {
   "cell_type": "code",
   "execution_count": 145,
   "id": "25e23fb5-042c-4664-a0da-28fae7235243",
   "metadata": {},
   "outputs": [
    {
     "name": "stdout",
     "output_type": "stream",
     "text": [
      "              precision    recall  f1-score   support\n",
      "\n",
      "           0       1.00      0.97      0.99     18322\n",
      "           1       0.97      1.00      0.98     16448\n",
      "\n",
      "    accuracy                           0.98     34770\n",
      "   macro avg       0.98      0.99      0.98     34770\n",
      "weighted avg       0.98      0.98      0.98     34770\n",
      "\n"
     ]
    }
   ],
   "source": [
    "print(classification_report(y_test,y_pred))"
   ]
  },
  {
   "cell_type": "markdown",
   "id": "62f8564d-7e43-4a26-9dc7-efdf5c9eddcc",
   "metadata": {},
   "source": [
    "### SMOTE"
   ]
  },
  {
   "cell_type": "code",
   "execution_count": 146,
   "id": "ea335f0b-2180-49cb-b62e-5980c5b59f90",
   "metadata": {},
   "outputs": [],
   "source": [
    "from imblearn.over_sampling import SMOTE"
   ]
  },
  {
   "cell_type": "code",
   "execution_count": 147,
   "id": "5f81f1f9-51ef-4755-be61-5ae2766660e3",
   "metadata": {},
   "outputs": [],
   "source": [
    "X = df.drop('Class',axis=1)\n",
    "y = df['Class']"
   ]
  },
  {
   "cell_type": "code",
   "execution_count": 148,
   "id": "bbf649f7-e5f1-41e6-9e61-b956e4c89164",
   "metadata": {},
   "outputs": [],
   "source": [
    "smote = SMOTE(sampling_strategy=0.9)\n",
    "X,y = smote.fit_resample(X,y)"
   ]
  },
  {
   "cell_type": "code",
   "execution_count": 149,
   "id": "ea8075e2-215a-4933-884f-aa6f85603ad9",
   "metadata": {},
   "outputs": [],
   "source": [
    "X_train,X_test,y_train,y_test = train_test_split(X,y,test_size=0.2,random_state=1)\n",
    "rf_clf = RandomForestClassifier(n_estimators=25)\n",
    "rf_clf.fit(X_train,y_train)\n",
    "y_pred = rf_clf.predict(X_test)"
   ]
  },
  {
   "cell_type": "code",
   "execution_count": 150,
   "id": "072546ee-d77a-4c9c-8c87-3634409c79cc",
   "metadata": {},
   "outputs": [
    {
     "data": {
      "text/plain": [
       "Counter({0: 91500, 1: 82350})"
      ]
     },
     "execution_count": 150,
     "metadata": {},
     "output_type": "execute_result"
    }
   ],
   "source": [
    "Counter(y)"
   ]
  },
  {
   "cell_type": "code",
   "execution_count": 151,
   "id": "63dd12dd-a986-4b83-b2b3-507c0569c6c4",
   "metadata": {},
   "outputs": [
    {
     "data": {
      "image/png": "[encoded data removed]",
      "text/plain": [
       "<Figure size 640x480 with 2 Axes>"
      ]
     },
     "metadata": {},
     "output_type": "display_data"
    }
   ],
   "source": [
    "cm = confusion_matrix(y_test,y_pred)\n",
    "sns.heatmap(cm,annot=True,fmt='d')\n",
    "plt.show()"
   ]
  },
  {
   "cell_type": "code",
   "execution_count": 152,
   "id": "400b0ecd-623d-4280-a317-8ccfb593b15a",
   "metadata": {},
   "outputs": [
    {
     "name": "stdout",
     "output_type": "stream",
     "text": [
      "              precision    recall  f1-score   support\n",
      "\n",
      "           0       0.97      0.98      0.97     18322\n",
      "           1       0.97      0.97      0.97     16448\n",
      "\n",
      "    accuracy                           0.97     34770\n",
      "   macro avg       0.97      0.97      0.97     34770\n",
      "weighted avg       0.97      0.97      0.97     34770\n",
      "\n"
     ]
    }
   ],
   "source": [
    "print(classification_report(y_test,y_pred))"
   ]
  },
  {
   "cell_type": "markdown",
   "id": "b2e727ac-0b08-4f21-a2e6-ac3e166d1f83",
   "metadata": {},
   "source": [
    "### SMOTETomek"
   ]
  },
  {
   "cell_type": "code",
   "execution_count": 155,
   "id": "21920039-ecfb-4c9d-8a77-bad8bdf7e73f",
   "metadata": {},
   "outputs": [],
   "source": [
    "from imblearn.combine import SMOTETomek"
   ]
  },
  {
   "cell_type": "code",
   "execution_count": 156,
   "id": "9ec7c30d-dba8-4ff0-89f4-b4bb3039f20d",
   "metadata": {},
   "outputs": [],
   "source": [
    "X = df.drop('Class',axis=1)\n",
    "y = df['Class']"
   ]
  },
  {
   "cell_type": "code",
   "execution_count": 169,
   "id": "eac071e3-bfe3-4fda-bcf2-554f213a811a",
   "metadata": {},
   "outputs": [],
   "source": [
    "smotetomek = SMOTETomek(sampling_strategy=0.95)\n",
    "X,y = smotetomek.fit_resample(X,y)"
   ]
  },
  {
   "cell_type": "code",
   "execution_count": 170,
   "id": "529e9f92-97b3-4675-8274-eef8c8588c49",
   "metadata": {},
   "outputs": [],
   "source": [
    "X_train,X_test,y_train,y_test = train_test_split(X,y,test_size=0.2,random_state=1)\n",
    "rf_clf = RandomForestClassifier(n_estimators=25)\n",
    "rf_clf.fit(X_train,y_train)\n",
    "y_pred = rf_clf.predict(X_test)"
   ]
  },
  {
   "cell_type": "code",
   "execution_count": 171,
   "id": "5c45f800-9446-4599-a85e-1bb170c1859d",
   "metadata": {},
   "outputs": [
    {
     "data": {
      "text/plain": [
       "Counter({0: 90219, 1: 85706})"
      ]
     },
     "execution_count": 171,
     "metadata": {},
     "output_type": "execute_result"
    }
   ],
   "source": [
    "Counter(y)"
   ]
  },
  {
   "cell_type": "code",
   "execution_count": 172,
   "id": "3c825cba-aefe-4de3-af54-cdef044a2f0c",
   "metadata": {},
   "outputs": [
    {
     "data": {
      "image/png": "[encoded data removed]",
      "text/plain": [
       "<Figure size 640x480 with 2 Axes>"
      ]
     },
     "metadata": {},
     "output_type": "display_data"
    }
   ],
   "source": [
    "cm = confusion_matrix(y_test,y_pred)\n",
    "sns.heatmap(cm,annot=True,fmt='d')\n",
    "plt.show()"
   ]
  },
  {
   "cell_type": "code",
   "execution_count": 174,
   "id": "bd0d8e0a-dd9c-4336-8ee6-7eab97283658",
   "metadata": {},
   "outputs": [
    {
     "name": "stdout",
     "output_type": "stream",
     "text": [
      "              precision    recall  f1-score   support\n",
      "\n",
      "           0       0.98      0.98      0.98     18052\n",
      "           1       0.98      0.97      0.98     17133\n",
      "\n",
      "    accuracy                           0.98     35185\n",
      "   macro avg       0.98      0.98      0.98     35185\n",
      "weighted avg       0.98      0.98      0.98     35185\n",
      "\n"
     ]
    }
   ],
   "source": [
    "print(classification_report(y_test,y_pred))"
   ]
  },
  {
   "cell_type": "markdown",
   "id": "70d75c32-1d94-4807-ae2b-8f06556580b6",
   "metadata": {},
   "source": [
    "### Easy ensemble classifier"
   ]
  },
  {
   "cell_type": "code",
   "execution_count": 175,
   "id": "0bdfe594-5f7d-4665-8f81-afb3dc5710a8",
   "metadata": {},
   "outputs": [],
   "source": [
    "from imblearn.ensemble import EasyEnsembleClassifier"
   ]
  },
  {
   "cell_type": "code",
   "execution_count": 176,
   "id": "803ed519-5d0b-495f-aadf-7674621f9eb2",
   "metadata": {},
   "outputs": [],
   "source": [
    "X = df.drop('Class',axis=1)\n",
    "y = df['Class']"
   ]
  },
  {
   "cell_type": "code",
   "execution_count": 177,
   "id": "2697cefb-98c2-469e-a9f9-0893e1c9f11d",
   "metadata": {},
   "outputs": [],
   "source": [
    "X_train,X_test,y_train,y_test = train_test_split(X,y,test_size=0.2,random_state=1)\n",
    "rf_clf = EasyEnsembleClassifier(n_estimators=25)\n",
    "rf_clf.fit(X_train,y_train)\n",
    "y_pred = rf_clf.predict(X_test)"
   ]
  },
  {
   "cell_type": "code",
   "execution_count": 178,
   "id": "3ac867a4-803a-4cc5-a83d-c6e49c2f650a",
   "metadata": {},
   "outputs": [
    {
     "data": {
      "text/plain": [
       "Counter({0: 91500, 1: 8500})"
      ]
     },
     "execution_count": 178,
     "metadata": {},
     "output_type": "execute_result"
    }
   ],
   "source": [
    "Counter(y)"
   ]
  },
  {
   "cell_type": "code",
   "execution_count": 179,
   "id": "8cd43eb7-6f38-4ba9-833d-d7b8ce0444b9",
   "metadata": {},
   "outputs": [
    {
     "data": {
      "image/png": "[encoded data removed]",
      "text/plain": [
       "<Figure size 640x480 with 2 Axes>"
      ]
     },
     "metadata": {},
     "output_type": "display_data"
    }
   ],
   "source": [
    "cm = confusion_matrix(y_test,y_pred)\n",
    "sns.heatmap(cm,annot=True,fmt='d')\n",
    "plt.show()"
   ]
  },
  {
   "cell_type": "code",
   "execution_count": 180,
   "id": "5fe1c564-712a-405f-8a06-9860a43706c4",
   "metadata": {},
   "outputs": [
    {
     "name": "stdout",
     "output_type": "stream",
     "text": [
      "              precision    recall  f1-score   support\n",
      "\n",
      "           0       0.99      0.90      0.94     18299\n",
      "           1       0.45      0.92      0.61      1701\n",
      "\n",
      "    accuracy                           0.90     20000\n",
      "   macro avg       0.72      0.91      0.78     20000\n",
      "weighted avg       0.95      0.90      0.91     20000\n",
      "\n"
     ]
    }
   ],
   "source": [
    "print(classification_report(y_test,y_pred))"
   ]
  },
  {
   "cell_type": "code",
   "execution_count": null,
   "id": "dba86290-d729-4d70-8791-a3e99cf94841",
   "metadata": {},
   "outputs": [],
   "source": []
  }
 ],
 "metadata": {
  "kernelspec": {
   "display_name": "Python 3 (ipykernel)",
   "language": "python",
   "name": "python3"
  },
  "language_info": {
   "codemirror_mode": {
    "name": "ipython",
    "version": 3
   },
   "file_extension": ".py",
   "mimetype": "text/x-python",
   "name": "python",
   "nbconvert_exporter": "python",
   "pygments_lexer": "ipython3",
   "version": "3.11.4"
  }
 },
 "nbformat": 4,
 "nbformat_minor": 5
}
